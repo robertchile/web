{
  "nbformat": 4,
  "nbformat_minor": 0,
  "metadata": {
    "colab": {
      "name": "Noticias ARZOBISPADO WhatsApp's",
      "provenance": [],
      "collapsed_sections": [],
      "include_colab_link": true
    },
    "kernelspec": {
      "name": "python3",
      "display_name": "Python 3"
    },
    "language_info": {
      "name": "python"
    }
  },
  "cells": [
    {
      "cell_type": "markdown",
      "metadata": {
        "id": "view-in-github",
        "colab_type": "text"
      },
      "source": [
        "<a href=\"https://colab.research.google.com/github/robertchile/web/blob/master/Noticias_ARZOBISPADO_WhatsApp's.ipynb\" target=\"_parent\"><img src=\"https://colab.research.google.com/assets/colab-badge.svg\" alt=\"Open In Colab\"/></a>"
      ]
    },
    {
      "cell_type": "markdown",
      "metadata": {
        "id": "n61lttYy5YlN"
      },
      "source": [
        "**DESCRIPCIÓN DEL PROGRAMA:**\n",
        "\n",
        "Sistema de Extracción de Noticias del Sitio Web del Arzobispado de Santiago de Chile, para la creación de resumenes de noticias para las listas de difusión y grupos de WhatsApp...\n",
        "\n",
        "**COMO FUNCIONA EL PROGRAMA:**\n",
        "\n",
        "PASO 1: Para Ejecutar el programa deber ir al menú ENTORNO DE EJECUCIÓN y hacer clic en EJECUTAR TODO y esperar (Debería demorar como máximo 1 a 2 minutos)...\n",
        "\n",
        "PASO 2: Ir al final del mensaje y seleccionar todo el texto\n",
        "\n",
        "PASO 3: Ir al menú EDITAR y elige la opción COPIAR CELDA O SELECCIÓN\n",
        "\n",
        "PASO 4: Abrir WhatsApp Web y pegar en el grupo o lista de difusión el mensaje y enviar"
      ]
    },
    {
      "cell_type": "code",
      "metadata": {
        "id": "LOWpkKrrFl6M"
      },
      "source": [
        "!pip install requests"
      ],
      "execution_count": null,
      "outputs": []
    },
    {
      "cell_type": "code",
      "metadata": {
        "id": "4NAZOBlZF9Kg"
      },
      "source": [
        "! pip install beautifulsoup4"
      ],
      "execution_count": null,
      "outputs": []
    },
    {
      "cell_type": "code",
      "metadata": {
        "id": "T-jLp__KGFCC",
        "colab": {
          "base_uri": "https://localhost:8080/"
        },
        "outputId": "ddcf7d8f-a9f9-4b90-b111-c5d403861a81"
      },
      "source": [
        "from bs4 import BeautifulSoup\n",
        "from urllib.request import urlopen\n",
        "\n",
        "url = \"https://www.iglesiadesantiago.cl/arzobispado/noticias\"\n",
        "urlbase = \"www.iglesiadesantiago.cl\"\n",
        "page = urlopen(url)\n",
        "html = page.read().decode(\"utf-8\")\n",
        "soup = BeautifulSoup(html, \"html.parser\")\n",
        "noticias = soup.find_all(\"div\", class_='content')\n",
        "print (\"*RESUMEN SEMANAL DE NOTICIAS*\", end='\\n'*2)\n",
        "print (\"Hola a todos y todas, esperando que esten teniendo un buen día...\",end='\\n')\n",
        "print (\"Les compartimos un resumen de noticias y artículos publicados en el sitio web\",urlbase, \"en esta ultima semana...\",end = '\\n'*2)\n",
        "print (\"--------------------\",end = '\\n'*2)\n",
        "for noticia in noticias:\n",
        "    titulo = noticia.find('h2', class_='tit')\n",
        "    link = noticia.find('a')\n",
        "    linkfinal = urlbase+link.get('href')\n",
        "    print (titulo.text,linkfinal, end = '\\n'*2)\n"
      ],
      "execution_count": 25,
      "outputs": [
        {
          "output_type": "stream",
          "text": [
            "*RESUMEN SEMANAL DE NOTICIAS*\n",
            "\n",
            "Hola a todos y todas, esperando que esten teniendo un buen día...\n",
            "Les compartimos un resumen de noticias y artículos publicados en el sitio web www.iglesiadesantiago.cl en esta ultima semana...\n",
            "\n",
            "--------------------\n",
            "\n",
            "Lanzarán APP para crear redes entre jóvenes y comunidades católicas www.iglesiadesantiago.cl/noticias/generales/lanzaran-app-para-crear-redes-entre-jovenes-y-comunidades-catolicas\n",
            "\n",
            "Catequesis del Papa. Las dificultades en la oración: distracción, sequedad y acedia www.iglesiadesantiago.cl/noticias/generales/catequesis-del-papa-las-dificultades-en-la-oracion-distraccion\n",
            "\n",
            "Inició la 38º Asamblea General del CELAM www.iglesiadesantiago.cl/noticias/generales/inicio-la-38-asamblea-general-del-celam\n",
            "\n",
            "Depto. de Animación Bíblica invita a encuentro de preparación para Pentecostés www.iglesiadesantiago.cl/vicarias/vicaria-pastoral/depto-animacion-biblica-pastoral/depto-de-animacion-biblica-invita-a-encuentro-en-preparacion-para\n",
            "\n",
            "[ESPECIAL] Proceso de Escucha y Discernimiento en Santiago y Latinoamérica www.iglesiadesantiago.cl/noticias/generales/proceso-de-escucha-y-discernimiento-en-santiago-y-latinoamerica\n",
            "\n",
            "Materiales para vivir Pentecostés en familia y desde casa www.iglesiadesantiago.cl/noticias/vicaria-pastoral-y-departamentos/depto-espiritualidad/materiales-para-vivir-pentecostes-en-familia-y-desde-casa\n",
            "\n",
            "Mosaico de la Virgen del Carmen se instalará en el Vaticano www.iglesiadesantiago.cl/noticias/otras/mosaico-de-la-virgen-del-carmen-se-instalara-en-el-vaticano\n",
            "\n",
            "Ciclo de charlas sobre cultura, patrimonio y fe en la Universidad Católica www.iglesiadesantiago.cl/noticias/generales/ciclo-de-charlas-sobre-cultura-patrimonio-y-fe-en-la-universidad-catolica\n",
            "\n",
            "“Vivo la catequesis como una pasión, una pasión por evangelizar” www.iglesiadesantiago.cl/noticias/vicaria-pastoral-y-departamentos/depto-catequesis/vivo-la-catequesis-como-una-pasion-una-pasion-por-evangelizar\n",
            "\n",
            "Vicarías Norte y Sur profundizan sobre Asamblea Eclesial www.iglesiadesantiago.cl/noticias/vicarias/vicaria-zona-norte/vicarias-norte-y-sur-profundizan-sobre-asamblea-eclesial\n",
            "\n",
            "“La muerte no es el final del camino, nuestro destino es la vida eterna” www.iglesiadesantiago.cl/noticias/generales/la-muerte-no-es-el-final-del-camino-nuestro-destino-es-la-vida-eterna\n",
            "\n",
            "Regina Coeli, Papa: Jesús no nos abandona, permanece en oración www.iglesiadesantiago.cl/noticias/generales/regina-coeli-papa-jesus-no-nos-abandona-permanece-en-oracion\n",
            "\n"
          ],
          "name": "stdout"
        }
      ]
    }
  ]
}